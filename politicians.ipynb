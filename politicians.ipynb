{
 "cells": [
  {
   "cell_type": "markdown",
   "metadata": {},
   "source": [
    "# Intro\n",
    "This is result of my learning of Deep Learning basics. The code is based on and in some of its part copied from the following tutorial: https://pythonprogramming.net/introduction-deep-learning-python-tensorflow-keras/"
   ]
  },
  {
   "cell_type": "markdown",
   "metadata": {},
   "source": [
    "## Step 1 - training data\n",
    "Prepare training set. Normalize data size."
   ]
  },
  {
   "cell_type": "code",
   "execution_count": 1,
   "metadata": {},
   "outputs": [
    {
     "name": "stderr",
     "output_type": "stream",
     "text": [
      "100%|██████████| 138/138 [00:00<00:00, 251.19it/s]\n",
      "100%|██████████| 235/235 [00:00<00:00, 242.46it/s]\n"
     ]
    }
   ],
   "source": [
    "import numpy as np\n",
    "import matplotlib.pyplot as plt\n",
    "import os\n",
    "import cv2\n",
    "from tqdm import tqdm\n",
    "\n",
    "DATADIR = \"pics_down/pics\"\n",
    "CATEGORIES = [\"duda\", \"trzaskowski\"]\n",
    "training_data = []\n",
    "IMG_SIZE = 100\n",
    "\n",
    "def create_training_data():\n",
    "    for category in CATEGORIES:\n",
    "        path = os.path.join(DATADIR,category)  # create path to dogs and cats\n",
    "        class_num = CATEGORIES.index(category)  # classification: 0=duda 1=trzaskowksi\n",
    "\n",
    "        for img in tqdm(os.listdir(path)):  # iterate over images and prepare a training set\n",
    "            try:\n",
    "                img_array = cv2.imread(os.path.join(path,img) ,cv2.IMREAD_GRAYSCALE)  # convert to array\n",
    "                new_array = cv2.resize(img_array, (IMG_SIZE, IMG_SIZE))  # resize to normalize data size\n",
    "                training_data.append([new_array, class_num])\n",
    "            except Exception as e:\n",
    "                pass\n",
    "\n",
    "create_training_data()\n"
   ]
  },
  {
   "cell_type": "markdown",
   "metadata": {},
   "source": [
    "Shuffle traning data - otherwise the classifier would learn to just predict first always Duda, then Trzaskowski."
   ]
  },
  {
   "cell_type": "code",
   "execution_count": 2,
   "metadata": {},
   "outputs": [],
   "source": [
    "import random\n",
    "random.shuffle(training_data)"
   ]
  },
  {
   "cell_type": "code",
   "execution_count": 3,
   "metadata": {},
   "outputs": [],
   "source": [
    "X = []  # data\n",
    "y = []  # prediction target\n",
    "\n",
    "for features,label in training_data:\n",
    "    X.append(features)\n",
    "    y.append(label)\n",
    "\n",
    "\n",
    "X = np.array(X).reshape(-1, IMG_SIZE, IMG_SIZE, 1)\n",
    "y = np.array(y)"
   ]
  },
  {
   "cell_type": "markdown",
   "metadata": {},
   "source": [
    "Save training data"
   ]
  },
  {
   "cell_type": "code",
   "execution_count": 4,
   "metadata": {},
   "outputs": [],
   "source": [
    "import pickle\n",
    "\n",
    "pickle_out = open(\"X_p.pickle\",\"wb\")\n",
    "pickle.dump(X, pickle_out)\n",
    "pickle_out.close()\n",
    "\n",
    "pickle_out = open(\"y_p.pickle\",\"wb\")\n",
    "pickle.dump(y, pickle_out)\n",
    "pickle_out.close()"
   ]
  },
  {
   "cell_type": "markdown",
   "metadata": {},
   "source": [
    "## Step 2 - Build model\n",
    "Create a model.\n",
    "\n",
    "Convolution - the act of taking the original data, and creating feature maps from it.\n",
    "\n",
    "Pooling - down-sampling, most often in the form of \"max-pooling,\" where we select a region, and then take the maximum value in that region, and that becomes the new value for the entire region. \n",
    "\n",
    "Hidden layer = convolution + pooling"
   ]
  },
  {
   "cell_type": "code",
   "execution_count": 5,
   "metadata": {
    "scrolled": false
   },
   "outputs": [
    {
     "name": "stdout",
     "output_type": "stream",
     "text": [
      "3-conv-64-nodes-0-dense-1595273969\n",
      "Train on 252 samples, validate on 109 samples\n",
      "Epoch 1/10\n",
      "252/252 [==============================] - 6s 25ms/sample - loss: 0.6979 - accuracy: 0.5397 - val_loss: 0.6408 - val_accuracy: 0.6606\n",
      "Epoch 2/10\n",
      "252/252 [==============================] - 4s 17ms/sample - loss: 0.6748 - accuracy: 0.6190 - val_loss: 0.6619 - val_accuracy: 0.6789\n",
      "Epoch 3/10\n",
      "252/252 [==============================] - 6s 23ms/sample - loss: 0.6666 - accuracy: 0.6151 - val_loss: 0.6204 - val_accuracy: 0.6606\n",
      "Epoch 4/10\n",
      "252/252 [==============================] - 6s 26ms/sample - loss: 0.6467 - accuracy: 0.6270 - val_loss: 0.6171 - val_accuracy: 0.6789\n",
      "Epoch 5/10\n",
      "252/252 [==============================] - 4s 17ms/sample - loss: 0.6154 - accuracy: 0.6786 - val_loss: 0.5824 - val_accuracy: 0.7339\n",
      "Epoch 6/10\n",
      "252/252 [==============================] - 4s 15ms/sample - loss: 0.5552 - accuracy: 0.7143 - val_loss: 0.5775 - val_accuracy: 0.7248\n",
      "Epoch 7/10\n",
      "252/252 [==============================] - 6s 25ms/sample - loss: 0.5105 - accuracy: 0.7619 - val_loss: 0.5663 - val_accuracy: 0.7248\n",
      "Epoch 8/10\n",
      "252/252 [==============================] - 5s 21ms/sample - loss: 0.4501 - accuracy: 0.7976 - val_loss: 0.6954 - val_accuracy: 0.6147\n",
      "Epoch 9/10\n",
      "252/252 [==============================] - 4s 16ms/sample - loss: 0.4665 - accuracy: 0.8016 - val_loss: 0.5502 - val_accuracy: 0.7615\n",
      "Epoch 10/10\n",
      "252/252 [==============================] - 7s 28ms/sample - loss: 0.4080 - accuracy: 0.8294 - val_loss: 0.5362 - val_accuracy: 0.7982\n",
      "WARNING:tensorflow:From /Users/piotrbajsarowicz/.pyenv/versions/learning_python/lib/python3.6/site-packages/tensorflow_core/python/ops/resource_variable_ops.py:1786: calling BaseResourceVariable.__init__ (from tensorflow.python.ops.resource_variable_ops) with constraint is deprecated and will be removed in a future version.\n",
      "Instructions for updating:\n",
      "If using Keras pass *_constraint arguments to layers.\n",
      "INFO:tensorflow:Assets written to: 64x3-CNN_p.model/assets\n"
     ]
    }
   ],
   "source": [
    "from tensorflow.keras.models import Sequential\n",
    "from tensorflow.keras.layers import Dense, Dropout, Activation, Flatten\n",
    "from tensorflow.keras.layers import Conv2D, MaxPooling2D\n",
    "from tensorflow.keras.callbacks import TensorBoard\n",
    "import pickle\n",
    "import time\n",
    "\n",
    "pickle_in = open(\"X_p.pickle\",\"rb\")\n",
    "X = pickle.load(pickle_in)\n",
    "\n",
    "pickle_in = open(\"y_p.pickle\",\"rb\")\n",
    "y = pickle.load(pickle_in)\n",
    "\n",
    "X = X/255.0\n",
    "\n",
    "dense_layers = [0]\n",
    "layer_sizes = [64]\n",
    "conv_layers = [3]\n",
    "\n",
    "for dense_layer in dense_layers:\n",
    "    for layer_size in layer_sizes:\n",
    "        for conv_layer in conv_layers:\n",
    "            NAME = \"{}-conv-{}-nodes-{}-dense-{}\".format(conv_layer, layer_size, dense_layer, int(time.time()))\n",
    "            print(NAME)\n",
    "\n",
    "            model = Sequential()\n",
    "\n",
    "            model.add(Conv2D(layer_size, (3, 3), input_shape=X.shape[1:]))\n",
    "            model.add(Activation('relu'))\n",
    "            model.add(MaxPooling2D(pool_size=(2, 2)))\n",
    "\n",
    "            for l in range(conv_layer-1):\n",
    "                model.add(Conv2D(layer_size, (3, 3)))\n",
    "                model.add(Activation('relu'))\n",
    "                model.add(MaxPooling2D(pool_size=(2, 2)))\n",
    "\n",
    "            model.add(Flatten())\n",
    "\n",
    "            for _ in range(dense_layer):\n",
    "                model.add(Dense(layer_size))\n",
    "                model.add(Activation('relu'))\n",
    "\n",
    "            model.add(Dense(1))\n",
    "            model.add(Activation('sigmoid'))\n",
    "\n",
    "            tensorboard = TensorBoard(log_dir=\"logs/{}\".format(NAME))\n",
    "\n",
    "            model.compile(loss='binary_crossentropy',\n",
    "                          optimizer='adam',\n",
    "                          metrics=['accuracy'],\n",
    "                          )\n",
    "\n",
    "            model.fit(X, y,\n",
    "                      batch_size=32,\n",
    "                      epochs=10,\n",
    "                      validation_split=0.3,\n",
    "                      callbacks=[tensorboard])\n",
    "\n",
    "model.save('64x3-CNN_p.model')"
   ]
  },
  {
   "cell_type": "markdown",
   "metadata": {},
   "source": [
    "## Step 3 - Predict\n",
    "Use the model and try to predict"
   ]
  },
  {
   "cell_type": "code",
   "execution_count": 6,
   "metadata": {},
   "outputs": [
    {
     "name": "stdout",
     "output_type": "stream",
     "text": [
      "trzask1 = duda\n",
      "trzask2 = trzaskowski\n",
      "trzask3 = trzaskowski\n",
      "trzask4 = duda\n",
      "duda1 = trzaskowski\n",
      "duda2 = duda\n",
      "duda3 = duda\n"
     ]
    }
   ],
   "source": [
    "import tensorflow as tf\n",
    "\n",
    "CATEGORIES = [\"duda\", \"trzaskowski\"]\n",
    "\n",
    "\n",
    "def prepare(filepath):\n",
    "    IMG_SIZE = 100\n",
    "    img_array = cv2.imread(filepath, cv2.IMREAD_GRAYSCALE)\n",
    "    new_array = cv2.resize(img_array, (IMG_SIZE, IMG_SIZE))\n",
    "    return new_array.reshape(-1, IMG_SIZE, IMG_SIZE, 1)\n",
    "\n",
    "\n",
    "model = tf.keras.models.load_model(\"64x3-CNN_p.model\")\n",
    "\n",
    "for name in [\"trzask\", \"duda\"]:\n",
    "    for item in range(1, 10):\n",
    "        try:\n",
    "            prediction = model.predict([prepare(f'test/{name}{item}.jpg')])\n",
    "        except:\n",
    "            continue\n",
    "        result = CATEGORIES[int(prediction[0][0])]\n",
    "        print(f\"{name}{item} = {result}\")"
   ]
  }
 ],
 "metadata": {
  "kernelspec": {
   "display_name": "Python 3",
   "language": "python",
   "name": "python3"
  },
  "language_info": {
   "codemirror_mode": {
    "name": "ipython",
    "version": 3
   },
   "file_extension": ".py",
   "mimetype": "text/x-python",
   "name": "python",
   "nbconvert_exporter": "python",
   "pygments_lexer": "ipython3",
   "version": "3.6.5"
  }
 },
 "nbformat": 4,
 "nbformat_minor": 2
}
